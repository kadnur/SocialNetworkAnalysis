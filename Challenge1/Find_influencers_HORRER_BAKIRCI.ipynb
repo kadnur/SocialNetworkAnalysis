{
  "cells": [
    {
      "cell_type": "code",
      "execution_count": 1,
      "metadata": {
        "id": "-bl_VLIkM4ic"
      },
      "outputs": [],
      "source": [
        "import networkx as nx\n",
        "# https://networkx.github.io/documentation/stable/reference/index.html\n",
        "import matplotlib.pyplot as plt\n",
        "from matplotlib import pylab\n",
        "import numpy as np\n",
        "import pandas as pd"
      ]
    },
    {
      "cell_type": "code",
      "execution_count": 2,
      "metadata": {
        "id": "i512nKOmM4id"
      },
      "outputs": [],
      "source": [
        "# load the graph\n",
        "# The graph is an extraction from LinkedIn Social Network\n",
        "G = nx.read_gexf(\"mediumLinkedin.gexf\")"
      ]
    },
    {
      "cell_type": "markdown",
      "metadata": {
        "id": "qttsSxDaM4ie"
      },
      "source": [
        "# Exploration of the graph : relational data understanding"
      ]
    },
    {
      "cell_type": "code",
      "execution_count": 3,
      "metadata": {
        "colab": {
          "base_uri": "https://localhost:8080/"
        },
        "id": "9E-n5gvkM4ig",
        "outputId": "9283b086-ddcc-420f-f67c-1fcbdcb58e38"
      },
      "outputs": [
        {
          "output_type": "stream",
          "name": "stdout",
          "text": [
            "Number of nodes 811\n",
            "Number of edges 1597\n",
            "Average degree 3.938347718865598\n"
          ]
        }
      ],
      "source": [
        "# Networkx short summary of information for the graph g\n",
        "print('Number of nodes', len(G.nodes))\n",
        "print('Number of edges', len(G.edges))\n",
        "print('Average degree', sum(dict(G.degree).values()) / len(G.nodes))"
      ]
    },
    {
      "cell_type": "code",
      "execution_count": 4,
      "metadata": {
        "colab": {
          "base_uri": "https://localhost:8080/"
        },
        "id": "2uiP4XmqM4ih",
        "outputId": "49875edd-6da5-40ca-f6af-c2a4db0a4f32"
      },
      "outputs": [
        {
          "output_type": "execute_result",
          "data": {
            "text/plain": [
              "811"
            ]
          },
          "metadata": {},
          "execution_count": 4
        }
      ],
      "source": [
        "G.number_of_nodes()"
      ]
    },
    {
      "cell_type": "code",
      "execution_count": 5,
      "metadata": {
        "colab": {
          "base_uri": "https://localhost:8080/"
        },
        "id": "pNpuzXzpM4ih",
        "outputId": "e7c04513-5d7a-404a-dd60-76d403950d28"
      },
      "outputs": [
        {
          "output_type": "execute_result",
          "data": {
            "text/plain": [
              "1597"
            ]
          },
          "metadata": {},
          "execution_count": 5
        }
      ],
      "source": [
        "G.number_of_edges()"
      ]
    },
    {
      "cell_type": "code",
      "execution_count": 6,
      "metadata": {
        "colab": {
          "base_uri": "https://localhost:8080/",
          "height": 472
        },
        "id": "FL6ieAoBM4ii",
        "outputId": "a9459480-8270-42f1-bbc9-39698dfeaab6"
      },
      "outputs": [
        {
          "output_type": "display_data",
          "data": {
            "text/plain": [
              "<Figure size 640x480 with 1 Axes>"
            ],
            "image/png": "[encoded data removed]"
          },
          "metadata": {}
        }
      ],
      "source": [
        "plt.figure(num=None)\n",
        "fig = plt.figure(1)\n",
        "degree_sequence=[d for n, d in G.degree()] \n",
        "plt.hist(degree_sequence, bins='auto')  \n",
        "plt.title(\"powerlaw degree distribution\")\n",
        "plt.ylabel(\"# nodes\")\n",
        "plt.xlabel(\"degree\")\n",
        "plt.xlim(0,50)\n",
        "plt.show()\n",
        "pylab.close()\n",
        "del fig"
      ]
    },
    {
      "cell_type": "code",
      "execution_count": 7,
      "metadata": {
        "colab": {
          "base_uri": "https://localhost:8080/"
        },
        "id": "yo0HdHfRM4ii",
        "outputId": "4bf619d2-6edf-40f1-9c9a-72bf3f62309d"
      },
      "outputs": [
        {
          "output_type": "execute_result",
          "data": {
            "text/plain": [
              "DegreeView({'U27476': 8, 'U4665': 10, 'U1313': 4, 'U8804': 1, 'U14078': 4, 'U9628': 5, 'U9721': 2, 'U2649': 2, 'U27759': 1, 'U7310': 1, 'U22859': 1, 'U1417': 1, 'U25611': 3, 'U24095': 4, 'U3895': 8, 'U13005': 2, 'U2620': 1, 'U5976': 7, 'U4249': 16, 'U9140': 3, 'U16112': 3, 'U27776': 1, 'U27708': 2, 'U15284': 5, 'U24549': 1, 'U18514': 20, 'U15272': 6, 'U3933': 3, 'U15946': 6, 'U25630': 3, 'U25632': 1, 'U22031': 1, 'U11562': 8, 'U22071': 1, 'U15292': 9, 'U7912': 17, 'U22018': 1, 'U18925': 1, 'U7136': 1, 'U14498': 4, 'U21990': 1, 'U3927': 2, 'U1381': 1, 'U22087': 1, 'U27804': 1, 'U24252': 3, 'U7355': 6, 'U12969': 5, 'U2180': 5, 'U11815': 4, 'U4447': 1, 'U27679': 1, 'U27582': 4, 'U27464': 2, 'U8029': 1, 'U1075': 1, 'U24259': 1, 'U18564': 1, 'U27283': 10, 'U11575': 3, 'U14507': 4, 'U27477': 5, 'U25619': 1, 'U2661': 1, 'U24143': 3, 'U8000': 1, 'U22015': 1, 'U24152': 3, 'U11591': 10, 'U27585': 3, 'U27498': 2, 'U9663': 2, 'U14520': 5, 'U1441': 1, 'U2714': 1, 'U8051': 1, 'U27300': 10, 'U9149': 3, 'U18934': 1, 'U18948': 2, 'U4600': 2, 'U4638': 3, 'U7379': 2, 'U7192': 1, 'U15289': 3, 'U14005': 10, 'U24165': 2, 'U27553': 1, 'U14015': 4, 'U15329': 3, 'U24080': 5, 'U1073': 3, 'U18981': 1, 'U19856': 5, 'U4456': 9, 'U4012': 3, 'U3958': 3, 'U14117': 1, 'U24046': 4, 'U3954': 7, 'U7285': 1, 'U11564': 6, 'U7087': 1, 'U15173': 2, 'U7380': 2, 'U15318': 6, 'U7226': 1, 'U27460': 6, 'U7213': 1, 'U27711': 1, 'U11558': 6, 'U2625': 8, 'U11609': 1, 'U25634': 1, 'U7104': 1, 'U14575': 2, 'U18954': 3, 'U7279': 1, 'U3971': 6, 'U4625': 3, 'U1045': 58, 'U16132': 2, 'U27971': 2, 'U7151': 1, 'U7153': 1, 'U8086': 1, 'U7390': 2, 'U27661': 9, 'U8018': 2, 'U27752': 1, 'U13993': 5, 'U22011': 1, 'U27758': 1, 'U18914': 2, 'U14057': 1, 'U9130': 1, 'U24254': 1, 'U14572': 3, 'U8710': 4, 'U9660': 6, 'U15501': 1, 'U9706': 2, 'U2136': 9, 'U22824': 1, 'U1259': 3, 'U22780': 1, 'U15325': 1, 'U22825': 4, 'U10051': 5, 'U19842': 5, 'U27657': 2, 'U15177': 4, 'U11590': 1, 'U1220': 1, 'U4607': 5, 'U19913': 3, 'U1108': 1, 'U1068': 1, 'U14555': 1, 'U9154': 1, 'U8004': 1, 'U27676': 4, 'U14029': 1, 'U24062': 2, 'U24077': 2, 'U1252': 1, 'U27636': 3, 'U7967': 1, 'U27463': 3, 'U15168': 5, 'U27588': 5, 'U13988': 8, 'U14665': 2, 'U18943': 3, 'U27614': 5, 'U24117': 1, 'U1136': 1, 'U8699': 3, 'U7194': 1, 'U15321': 5, 'U27617': 2, 'U24128': 3, 'U22055': 1, 'U24205': 2, 'U7227': 1, 'U2723': 2, 'U4613': 9, 'U8054': 1, 'U7117': 1, 'U7307': 1, 'U7077': 1, 'U10631': 3, 'U18545': 1, 'U15193': 1, 'U18588': 1, 'U18539': 6, 'U27541': 9, 'U9655': 1, 'U25622': 1, 'U1196': 1, 'U22019': 1, 'U14490': 9, 'U4681': 1, 'U1072': 1, 'U22752': 1, 'U15466': 1, 'U24071': 3, 'U13995': 17, 'U27604': 1, 'U27756': 1, 'U16128': 7, 'U9657': 11, 'U7108': 1, 'U8091': 1, 'U13969': 16, 'U16134': 3, 'U21985': 1, 'U22828': 2, 'U6026': 1, 'U5982': 16, 'U14109': 2, 'U15174': 2, 'U13961': 8, 'U15939': 6, 'U18543': 1, 'U15932': 6, 'U9642': 3, 'U2688': 2, 'U4655': 3, 'U11587': 2, 'U27748': 1, 'U14024': 6, 'U14088': 3, 'U27577': 1, 'U2696': 1, 'U14136': 2, 'U18518': 6, 'U27499': 5, 'U7237': 1, 'U7260': 1, 'U2683': 2, 'U2656': 18, 'U24239': 1, 'U21094': 1, 'U8096': 1, 'U14008': 2, 'U4689': 2, 'U14492': 11, 'U27518': 2, 'U27721': 1, 'U24173': 1, 'U1359': 5, 'U7283': 1, 'U27473': 3, 'U7195': 1, 'U22072': 1, 'U7244': 1, 'U27687': 2, 'U18975': 1, 'U7109': 6, 'U25645': 1, 'U7132': 1, 'U7056': 1, 'U22006': 1, 'U8003': 2, 'U9153': 2, 'U9689': 4, 'U2209': 1, 'U24084': 3, 'U7170': 1, 'U27279': 1, 'U2761': 1, 'U6021': 3, 'U13968': 9, 'U1283': 1, 'U7373': 1, 'U7272': 1, 'U1134': 1, 'U5996': 5, 'U22010': 1, 'U21998': 1, 'U26952': 1, 'U6000': 22, 'U1284': 1, 'U1175': 4, 'U13981': 9, 'U14477': 11, 'U24130': 3, 'U19858': 4, 'U15968': 8, 'U21464': 2, 'U15299': 4, 'U4488': 4, 'U1214': 1, 'U7113': 1, 'U16152': 4, 'U7906': 2, 'U4634': 2, 'U3983': 2, 'U6011': 1, 'U24091': 1, 'U24087': 2, 'U2753': 1, 'U14657': 1, 'U21835': 3, 'U25627': 1, 'U14096': 5, 'U12932': 3, 'U13066': 2, 'U22017': 1, 'U7095': 1, 'U16140': 3, 'U7030': 1, 'U1071': 1, 'U18932': 2, 'U9649': 2, 'U15935': 4, 'U13007': 3, 'U2684': 5, 'U24176': 1, 'U16177': 3, 'U7351': 3, 'U25605': 3, 'U27608': 1, 'U11820': 6, 'U24241': 2, 'U19884': 6, 'U7350': 3, 'U6013': 1, 'U18524': 7, 'U7049': 1, 'U8036': 2, 'U27456': 4, 'U14138': 1, 'U24139': 6, 'U8904': 1, 'U7035': 1, 'U16167': 2, 'U8048': 13, 'U22771': 6, 'U22759': 3, 'U15994': 1, 'U7188': 1, 'U14508': 1, 'U15341': 6, 'U3914': 4, 'U16115': 6, 'U7202': 5, 'U3919': 10, 'U4461': 1, 'U7138': 1, 'U4574': 1, 'U3899': 5, 'U7167': 2, 'U15350': 9, 'U7304': 1, 'U15917': 1, 'U25625': 3, 'U2153': 2, 'U8080': 1, 'U27634': 5, 'U22843': 1, 'U27507': 6, 'U4517': 1, 'U25633': 2, 'U2677': 1, 'U27779': 1, 'U8298': 2, 'U7174': 1, 'U19874': 4, 'U22785': 6, 'U27649': 1, 'U7299': 1, 'U24113': 1, 'U1178': 1, 'U4676': 1, 'U3955': 19, 'U4489': 4, 'U15335': 3, 'U15296': 10, 'U27785': 1, 'U2691': 3, 'U14542': 3, 'U16089': 5, 'U14124': 2, 'U22051': 1, 'U14072': 2, 'U27471': 13, 'U27746': 1, 'U8076': 1, 'U7239': 1, 'U2750': 2, 'U22803': 2, 'U24054': 3, 'U10062': 3, 'U15308': 14, 'U4644': 2, 'U19896': 1, 'U27753': 1, 'U15974': 6, 'U14577': 7, 'U4647': 7, 'U14101': 1, 'U9138': 1, 'U24231': 2, 'U18560': 4, 'U4455': 3, 'U24082': 1, 'U22068': 1, 'U7987': 17, 'U22041': 1, 'U27726': 1, 'U9724': 2, 'U1104': 1, 'U8106': 1, 'U24171': 1, 'U2108': 10, 'U1174': 1, 'U14668': 1, 'U16137': 5, 'U2631': 1, 'U24218': 3, 'U9709': 4, 'U8030': 1, 'U3947': 2, 'U6025': 1, 'U10068': 2, 'U15349': 7, 'U2622': 2, 'U15267': 32, 'U14532': 3, 'U27691': 2, 'U1282': 4, 'U16197': 1, 'U22086': 1, 'U8909': 1, 'U24263': 1, 'U14499': 4, 'U27792': 1, 'U28776': 2, 'U2627': 5, 'U3909': 6, 'U16101': 3, 'U21443': 1, 'U8088': 1, 'U4661': 5, 'U27698': 1, 'U2650': 2, 'U14119': 4, 'U7270': 1, 'U22799': 2, 'U15307': 7, 'U27801': 1, 'U6001': 7, 'U7990': 1, 'U22819': 1, 'U9665': 4, 'U5981': 4, 'U8059': 1, 'U1199': 1, 'U15359': 6, 'U15934': 6, 'U22747': 28, 'U1089': 2, 'U24092': 1, 'U15611': 1, 'U5983': 6, 'U7917': 3, 'U18916': 2, 'U14500': 10, 'U25559': 2, 'U7349': 2, 'U3894': 4, 'U27642': 1, 'U4641': 2, 'U9122': 5, 'U16204': 2, 'U27772': 2, 'U3918': 8, 'U24064': 5, 'U21995': 1, 'U9128': 1, 'U9694': 1, 'U15928': 7, 'U25641': 1, 'U15334': 6, 'U1380': 1, 'U14043': 1, 'U7159': 1, 'U9667': 1, 'U15190': 2, 'U11597': 7, 'U27742': 2, 'U22838': 1, 'U8113': 1, 'U7317': 1, 'U4693': 1, 'U15317': 14, 'U27600': 2, 'U2724': 1, 'U7972': 46, 'U8104': 1, 'U22836': 1, 'U16174': 2, 'U27525': 4, 'U18549': 4, 'U1238': 1, 'U7909': 1, 'U14113': 4, 'U27515': 8, 'U11828': 2, 'U16216': 1, 'U14125': 3, 'U7114': 1, 'U15297': 6, 'U7234': 1, 'U7137': 1, 'U19831': 3, 'U22030': 1, 'U15316': 5, 'U24045': 24, 'U4628': 4, 'U10618': 3, 'U4633': 5, 'U27663': 1, 'U27618': 4, 'U13959': 12, 'U27532': 9, 'U24550': 1, 'U9141': 3, 'U24198': 3, 'U7096': 1, 'U15269': 14, 'U8049': 1, 'U7315': 5, 'U1331': 1, 'U1141': 1, 'U27692': 1, 'U12957': 7, 'U28774': 1, 'U16141': 7, 'U7220': 1, 'U25594': 2, 'U27763': 1, 'U15311': 8, 'U7092': 1, 'U1147': 1, 'U15944': 3, 'U22858': 2, 'U11817': 4, 'U7347': 5, 'U14121': 2, 'U27622': 1, 'U16179': 1, 'U7105': 1, 'U16127': 13, 'U22865': 2, 'U18562': 7, 'U4457': 2, 'U15336': 7, 'U7294': 1, 'U4562': 37, 'U7295': 1, 'U7338': 1, 'U4630': 3, 'U5980': 7, 'U3939': 5, 'U18973': 1, 'U7080': 1, 'U22022': 1, 'U4688': 1, 'U24100': 5, 'U14068': 23, 'U7288': 1, 'U22088': 1, 'U10059': 8, 'U27791': 1, 'U9630': 10, 'U4652': 5, 'U18983': 1, 'U8900': 1, 'U18965': 5, 'U24085': 2, 'U7326': 2, 'U2746': 1, 'U8068': 1, 'U18516': 6, 'U7180': 1, 'U13032': 2, 'U27648': 2, 'U2140': 12, 'U11823': 2, 'U9680': 1, 'U24189': 1, 'U22854': 1, 'U4680': 2, 'U27635': 1, 'U21838': 2, 'U7203': 1, 'U2653': 1, 'U22037': 1, 'U25618': 2, 'U8090': 1, 'U7983': 2, 'U7198': 1, 'U10050': 1, 'U1226': 1, 'U15957': 2, 'U27516': 10, 'U18915': 3, 'U24177': 3, 'U15919': 4, 'U4025': 3, 'U2680': 2, 'U18962': 1, 'U4467': 1, 'U15333': 7, 'U22059': 1, 'U1047': 1, 'U6028': 1, 'U7173': 1, 'U7176': 1, 'U24247': 1, 'U12020': 2, 'U27569': 2, 'U27738': 1, 'U27674': 1, 'U4610': 6, 'U25636': 1, 'U1254': 1, 'U1303': 1, 'U7253': 1, 'U24260': 1, 'U24158': 3, 'U27941': 3, 'U9627': 5, 'U8721': 1, 'U15344': 6, 'U27707': 1, 'U7033': 1, 'U18938': 1, 'U7090': 1, 'U2663': 2, 'U27542': 1, 'U7370': 1, 'U15287': 6, 'U27332': 1, 'U15368': 1, 'U11827': 2, 'U27508': 10, 'U21970': 1, 'U4439': 1, 'U27289': 10, 'U14479': 8, 'U24184': 9, 'U5977': 31, 'U14131': 1, 'U8050': 1, 'U27287': 122, 'U13954': 3, 'U24142': 1, 'U18597': 1, 'U13029': 2, 'U3989': 8, 'U18928': 4, 'U8702': 10, 'U14566': 3, 'U8100': 1, 'U1055': 5, 'U4542': 1, 'U4568': 14, 'U22074': 1, 'U22045': 1, 'U27737': 1, 'U18555': 2, 'U8741': 4, 'U18942': 7, 'U24238': 1, 'U8768': 2, 'U8066': 1, 'U11566': 20, 'U16084': 3, 'U14526': 9, 'U14531': 4, 'U22817': 4, 'U16078': 5, 'U7989': 2, 'U8098': 1, 'U27602': 2, 'U19886': 4, 'U9710': 12, 'U24504': 12, 'U9126': 8, 'U15949': 6, 'U18939': 6, 'U15294': 3, 'U14547': 2, 'U25610': 2, 'U15482': 1, 'U27475': 7, 'U27704': 2, 'U22775': 2, 'U10637': 1, 'U4000': 3, 'U22003': 1, 'U19848': 4, 'U14537': 2, 'U16153': 4, 'U16219': 6, 'U22044': 1, 'U27494': 4, 'U8111': 1, 'U24132': 1, 'U1044': 2, 'U11563': 8, 'U27575': 5, 'U11580': 3, 'U8269': 1, 'U7024': 74, 'U27627': 1, 'U19873': 1, 'U2744': 1, 'U7262': 1, 'U4485': 29, 'U3944': 6, 'U7986': 9, 'U14496': 10, 'U4563': 8, 'U2734': 1, 'U14080': 3, 'U16091': 4, 'U14529': 4, 'U18964': 1, 'U4685': 1, 'U15950': 3, 'U18570': 4, 'U22002': 1, 'U4452': 3, 'U4010': 6, 'U22861': 2, 'U11559': 5, 'U18593': 2, 'U18949': 6, 'U24154': 3, 'U27603': 7, 'U14557': 3, 'U14150': 1, 'U4448': 10, 'U7281': 1, 'U21848': 3, 'U25563': 13, 'U21827': 2, 'U7256': 8, 'U15342': 6, 'U18557': 1, 'U24183': 2, 'U7141': 1, 'U3922': 6, 'U16085': 2, 'U27656': 4, 'U1379': 1, 'U18586': 1, 'U22076': 1, 'U7082': 2, 'U7074': 1, 'U8279': 6, 'U4619': 8, 'U15286': 6, 'U4606': 2, 'U21969': 1, 'U4005': 6, 'U8670': 46, 'U14123': 7, 'U27613': 6, 'U7377': 2, 'U27557': 7, 'U22073': 1, 'U24179': 1, 'U9711': 4, 'U22849': 1, 'U9679': 3, 'U22753': 4, 'U1119': 1, 'U24224': 1, 'U12970': 4, 'U7402': 1, 'U7156': 1, 'U16098': 1, 'U28772': 2, 'U7091': 45, 'U27761': 2, 'U27549': 3, 'U14007': 12, 'U7319': 13, 'U8795': 14, 'U4635': 2, 'U14519': 7, 'U8110': 1, 'U22820': 1, 'U15197': 3, 'U27777': 1, 'U27784': 2, 'U10607': 9, 'U7189': 1, 'U27798': 1, 'U14564': 4, 'U14112': 3, 'U4586': 12, 'U8828': 4, 'U7199': 1, 'U18520': 1})"
            ]
          },
          "metadata": {},
          "execution_count": 7
        }
      ],
      "source": [
        "G.degree()\n"
      ]
    },
    {
      "cell_type": "code",
      "execution_count": 8,
      "metadata": {
        "colab": {
          "base_uri": "https://localhost:8080/"
        },
        "id": "iXIC9gu8M4ij",
        "outputId": "e4224fba-c4e5-444d-b5b3-c39f7980d478"
      },
      "outputs": [
        {
          "output_type": "stream",
          "name": "stdout",
          "text": [
            "The 5 nodes with the highest degree are: [('U7972', 46), ('U8670', 46), ('U1045', 58), ('U7024', 74), ('U27287', 122)]\n",
            "The 5 next nodes with the highest degree are: [('U4485', 29), ('U5977', 31), ('U15267', 32), ('U4562', 37), ('U7091', 45)]\n"
          ]
        }
      ],
      "source": [
        "# The 10 nodes with the highest degree \n",
        "sorted_nodes_by_degree=sorted([(n,d) for n, d in G.degree()], key=lambda t: t[1])\n",
        "print(\"The 5 nodes with the highest degree are: %s\" % str(sorted_nodes_by_degree[-5:]))\n",
        "print(\"The 5 next nodes with the highest degree are: %s\" % str(sorted_nodes_by_degree[-10:-5]))"
      ]
    },
    {
      "cell_type": "code",
      "source": [
        "# We have know the 10 biggest influencers\n",
        "# That meens that thoes nodes are the one's which has the most edges to others\n",
        "\n",
        "# We want to know now who are the neigbours"
      ],
      "metadata": {
        "id": "UNJ-SzHvRIjv"
      },
      "execution_count": 9,
      "outputs": []
    },
    {
      "cell_type": "code",
      "source": [
        "sorted_nodes_by_degree_only_number = [sorted_nodes_by_degree[-i][0] for i in range(1,6)]\n",
        "sorted_5_next_nodes_by_degree_only_number = [sorted_nodes_by_degree[-i][0] for i in range(6,11)]\n",
        "print(sorted_nodes_by_degree_only_number)\n",
        "print(sorted_5_next_nodes_by_degree_only_number)"
      ],
      "metadata": {
        "colab": {
          "base_uri": "https://localhost:8080/"
        },
        "id": "_A42bqrMRWrG",
        "outputId": "f2004f3e-e7ef-4969-dcc1-b960c0efa233"
      },
      "execution_count": 10,
      "outputs": [
        {
          "output_type": "stream",
          "name": "stdout",
          "text": [
            "['U27287', 'U7024', 'U1045', 'U8670', 'U7972']\n",
            "['U7091', 'U4562', 'U15267', 'U5977', 'U4485']\n"
          ]
        }
      ]
    },
    {
      "cell_type": "code",
      "source": [
        "#Find the neighbours \n",
        "for i in sorted_nodes_by_degree_only_number:\n",
        "  print ('\\nThe neigbours of ' + str(i) + ' are')\n",
        "  print('\\n*********\\n')\n",
        "\n",
        "  for n in G.neighbors(i):\n",
        "      print(n)"
      ],
      "metadata": {
        "id": "w1URj_o1UvWr",
        "colab": {
          "base_uri": "https://localhost:8080/"
        },
        "outputId": "9d3bc9f6-1715-492b-84ee-c771d4be57c2"
      },
      "execution_count": 11,
      "outputs": [
        {
          "output_type": "stream",
          "name": "stdout",
          "text": [
            "\n",
            "The neigbours of U27287 are\n",
            "\n",
            "*********\n",
            "\n",
            "U27476\n",
            "U4665\n",
            "U2649\n",
            "U27759\n",
            "U24095\n",
            "U27776\n",
            "U27708\n",
            "U24549\n",
            "U27804\n",
            "U27679\n",
            "U27582\n",
            "U27464\n",
            "U27283\n",
            "U27477\n",
            "U11591\n",
            "U27585\n",
            "U27498\n",
            "U27300\n",
            "U27553\n",
            "U24080\n",
            "U27460\n",
            "U27711\n",
            "U2625\n",
            "U27661\n",
            "U27752\n",
            "U27758\n",
            "U27657\n",
            "U27676\n",
            "U27636\n",
            "U27463\n",
            "U27588\n",
            "U27614\n",
            "U27617\n",
            "U27541\n",
            "U27604\n",
            "U27756\n",
            "U27748\n",
            "U27577\n",
            "U27499\n",
            "U2656\n",
            "U27518\n",
            "U27721\n",
            "U27473\n",
            "U27687\n",
            "U24084\n",
            "U27279\n",
            "U26952\n",
            "U27608\n",
            "U27456\n",
            "U7202\n",
            "U27634\n",
            "U27507\n",
            "U27779\n",
            "U27649\n",
            "U27785\n",
            "U27471\n",
            "U27746\n",
            "U27753\n",
            "U27726\n",
            "U27691\n",
            "U27792\n",
            "U2627\n",
            "U27698\n",
            "U27801\n",
            "U24092\n",
            "U27642\n",
            "U27772\n",
            "U24064\n",
            "U11597\n",
            "U27742\n",
            "U27600\n",
            "U27525\n",
            "U27515\n",
            "U24045\n",
            "U4628\n",
            "U27663\n",
            "U27618\n",
            "U27532\n",
            "U27692\n",
            "U27763\n",
            "U27622\n",
            "U16127\n",
            "U4562\n",
            "U27791\n",
            "U27648\n",
            "U27635\n",
            "U27516\n",
            "U27569\n",
            "U27738\n",
            "U27674\n",
            "U27707\n",
            "U27542\n",
            "U27332\n",
            "U27508\n",
            "U27289\n",
            "U24184\n",
            "U27494\n",
            "U11580\n",
            "U27575\n",
            "U7319\n",
            "U27777\n",
            "U11559\n",
            "U25563\n",
            "U7256\n",
            "U11563\n",
            "U27656\n",
            "U4568\n",
            "U27557\n",
            "U11566\n",
            "U27737\n",
            "U27761\n",
            "U27549\n",
            "U27602\n",
            "U27627\n",
            "U24504\n",
            "U27603\n",
            "U27784\n",
            "U27613\n",
            "U27798\n",
            "U27475\n",
            "U27704\n",
            "U4586\n",
            "\n",
            "The neigbours of U7024 are\n",
            "\n",
            "*********\n",
            "\n",
            "U7310\n",
            "U7136\n",
            "U7192\n",
            "U7285\n",
            "U7087\n",
            "U7226\n",
            "U7213\n",
            "U7104\n",
            "U7279\n",
            "U7151\n",
            "U7153\n",
            "U7194\n",
            "U7227\n",
            "U7117\n",
            "U7307\n",
            "U7077\n",
            "U7108\n",
            "U7237\n",
            "U7260\n",
            "U7283\n",
            "U7195\n",
            "U7244\n",
            "U7109\n",
            "U7132\n",
            "U7056\n",
            "U7170\n",
            "U7272\n",
            "U7113\n",
            "U7095\n",
            "U7030\n",
            "U7049\n",
            "U7035\n",
            "U7188\n",
            "U7202\n",
            "U7138\n",
            "U7167\n",
            "U7304\n",
            "U7174\n",
            "U7299\n",
            "U7239\n",
            "U7270\n",
            "U7159\n",
            "U7317\n",
            "U7114\n",
            "U7234\n",
            "U7137\n",
            "U7096\n",
            "U7315\n",
            "U7220\n",
            "U7092\n",
            "U7105\n",
            "U7294\n",
            "U7295\n",
            "U7080\n",
            "U7288\n",
            "U7180\n",
            "U7203\n",
            "U7198\n",
            "U7173\n",
            "U7176\n",
            "U7253\n",
            "U7033\n",
            "U7090\n",
            "U7199\n",
            "U7082\n",
            "U7141\n",
            "U7074\n",
            "U7319\n",
            "U7281\n",
            "U7262\n",
            "U7156\n",
            "U7256\n",
            "U7189\n",
            "U7091\n",
            "\n",
            "The neigbours of U1045 are\n",
            "\n",
            "*********\n",
            "\n",
            "U1313\n",
            "U1417\n",
            "U25611\n",
            "U25630\n",
            "U25632\n",
            "U1075\n",
            "U25619\n",
            "U1441\n",
            "U1073\n",
            "U25634\n",
            "U1108\n",
            "U25618\n",
            "U1238\n",
            "U1089\n",
            "U1282\n",
            "U1104\n",
            "U1380\n",
            "U1174\n",
            "U25633\n",
            "U1044\n",
            "U25605\n",
            "U1136\n",
            "U25622\n",
            "U1178\n",
            "U25645\n",
            "U1283\n",
            "U1379\n",
            "U12020\n",
            "U1134\n",
            "U1359\n",
            "U1331\n",
            "U25636\n",
            "U1284\n",
            "U1175\n",
            "U1119\n",
            "U1303\n",
            "U25641\n",
            "U25594\n",
            "U10631\n",
            "U1196\n",
            "U10637\n",
            "U1226\n",
            "U1147\n",
            "U1047\n",
            "U1214\n",
            "U1254\n",
            "U1071\n",
            "U1199\n",
            "U25627\n",
            "U10607\n",
            "U1252\n",
            "U1220\n",
            "U25610\n",
            "U25625\n",
            "U1068\n",
            "U1141\n",
            "U1072\n",
            "U1055\n",
            "\n",
            "The neigbours of U8670 are\n",
            "\n",
            "*********\n",
            "\n",
            "U18514\n",
            "U24252\n",
            "U24259\n",
            "U24143\n",
            "U24152\n",
            "U24165\n",
            "U24254\n",
            "U8710\n",
            "U8699\n",
            "U24128\n",
            "U24205\n",
            "U18539\n",
            "U13995\n",
            "U13969\n",
            "U13961\n",
            "U11587\n",
            "U24239\n",
            "U24173\n",
            "U7109\n",
            "U13968\n",
            "U24130\n",
            "U24176\n",
            "U24241\n",
            "U24139\n",
            "U24231\n",
            "U24171\n",
            "U24218\n",
            "U24263\n",
            "U24198\n",
            "U24189\n",
            "U24177\n",
            "U24247\n",
            "U24260\n",
            "U24158\n",
            "U8721\n",
            "U24184\n",
            "U24142\n",
            "U8741\n",
            "U24238\n",
            "U8768\n",
            "U24132\n",
            "U24154\n",
            "U24183\n",
            "U24224\n",
            "U8795\n",
            "U24179\n",
            "\n",
            "The neigbours of U7972 are\n",
            "\n",
            "*********\n",
            "\n",
            "U4249\n",
            "U8029\n",
            "U8000\n",
            "U8051\n",
            "U8086\n",
            "U8018\n",
            "U15501\n",
            "U8004\n",
            "U8054\n",
            "U15466\n",
            "U8091\n",
            "U5982\n",
            "U8096\n",
            "U8003\n",
            "U6000\n",
            "U8036\n",
            "U8048\n",
            "U8080\n",
            "U8076\n",
            "U7987\n",
            "U8106\n",
            "U8030\n",
            "U8088\n",
            "U6001\n",
            "U7990\n",
            "U8059\n",
            "U15611\n",
            "U5983\n",
            "U14500\n",
            "U8113\n",
            "U8110\n",
            "U7983\n",
            "U8050\n",
            "U8090\n",
            "U5980\n",
            "U5977\n",
            "U8098\n",
            "U8100\n",
            "U8111\n",
            "U8049\n",
            "U7986\n",
            "U8066\n",
            "U8068\n",
            "U8104\n",
            "U15482\n",
            "U7989\n"
          ]
        }
      ]
    },
    {
      "cell_type": "markdown",
      "metadata": {
        "id": "3uEeaDjHM4ij"
      },
      "source": [
        "# Find inluencers"
      ]
    },
    {
      "cell_type": "code",
      "source": [
        "# What about our 5 highest degree nodes?\n",
        "# The higher the clustering coefficient of a node, the more strongly this node is grouped with its neighbors in the network.\n",
        "# We wqnt to find nodes with a hight degree but a low coeficient \n",
        "\n",
        "nx.clustering(G,sorted_nodes_by_degree_only_number)"
      ],
      "metadata": {
        "colab": {
          "base_uri": "https://localhost:8080/"
        },
        "id": "1yM4UN1mI07m",
        "outputId": "5d51db0a-3daf-4a78-912c-d5dfdc11aecd"
      },
      "execution_count": 12,
      "outputs": [
        {
          "output_type": "execute_result",
          "data": {
            "text/plain": [
              "{'U27287': 0.023438558460913157,\n",
              " 'U7024': 0.0011106997408367272,\n",
              " 'U1045': 0.011494252873563218,\n",
              " 'U8670': 0.035748792270531404,\n",
              " 'U7972': 0.02995169082125604}"
            ]
          },
          "metadata": {},
          "execution_count": 12
        }
      ]
    },
    {
      "cell_type": "code",
      "source": [
        "#For the 5 next nodes \n",
        "\n",
        "nx.clustering(G,sorted_5_next_nodes_by_degree_only_number)"
      ],
      "metadata": {
        "id": "WuDI8l73I1kL",
        "colab": {
          "base_uri": "https://localhost:8080/"
        },
        "outputId": "05632894-73d1-4f65-a556-d57638acc2d3"
      },
      "execution_count": 13,
      "outputs": [
        {
          "output_type": "execute_result",
          "data": {
            "text/plain": [
              "{'U7091': 0.00808080808080808,\n",
              " 'U4562': 0.08258258258258258,\n",
              " 'U15267': 0.17540322580645162,\n",
              " 'U5977': 0.15913978494623657,\n",
              " 'U4485': 0.07389162561576355}"
            ]
          },
          "metadata": {},
          "execution_count": 13
        }
      ]
    },
    {
      "cell_type": "code",
      "source": [
        "# The node U7091 is interresting because it is very little connected to the other nodes"
      ],
      "metadata": {
        "id": "ps9VDC1VQrNU"
      },
      "execution_count": 14,
      "outputs": []
    },
    {
      "cell_type": "code",
      "execution_count": 15,
      "metadata": {
        "id": "ElJzyAv9M4ik",
        "colab": {
          "base_uri": "https://localhost:8080/"
        },
        "outputId": "1fae2cd8-8e8b-4d55-aabe-575f5b7e86d5"
      },
      "outputs": [
        {
          "output_type": "stream",
          "name": "stdout",
          "text": [
            "1. U7024 avec un score de PageRank de 0.0371\n",
            "2. U27287 avec un score de PageRank de 0.0345\n",
            "3. U1045 avec un score de PageRank de 0.0257\n",
            "4. U7091 avec un score de PageRank de 0.0214\n",
            "5. U7972 avec un score de PageRank de 0.0168\n",
            "6. U8670 avec un score de PageRank de 0.0138\n",
            "7. U22747 avec un score de PageRank de 0.0109\n",
            "8. U4562 avec un score de PageRank de 0.0094\n",
            "9. U4485 avec un score de PageRank de 0.0086\n",
            "10. U14068 avec un score de PageRank de 0.0070\n"
          ]
        }
      ],
      "source": [
        "#The  algorithm calculates each node's score based on the sum of the scores of the nodes linked to it, weighted by the weight of the links.\n",
        "\n",
        "pagerank = nx.pagerank(G)\n",
        "sorted_pagerank = sorted(pagerank.items(), key=lambda x: x[1], reverse=True)\n",
        "for i in range(10):\n",
        "    print(f\"{i+1}. {sorted_pagerank[i][0]} avec un score de PageRank de {sorted_pagerank[i][1]:.4f}\")"
      ]
    },
    {
      "cell_type": "code",
      "source": [
        "for i in range(5):\n",
        "    print(sorted_pagerank[i][0])\n"
      ],
      "metadata": {
        "colab": {
          "base_uri": "https://localhost:8080/"
        },
        "id": "eOIrakezfEO1",
        "outputId": "471e708d-4b38-49bc-8944-f5e9ec74900e"
      },
      "execution_count": 16,
      "outputs": [
        {
          "output_type": "stream",
          "name": "stdout",
          "text": [
            "U7024\n",
            "U27287\n",
            "U1045\n",
            "U7091\n",
            "U7972\n"
          ]
        }
      ]
    },
    {
      "cell_type": "code",
      "source": [
        "infl = ('U7024', 'U27287', 'U1045', 'U7091', 'U7972')"
      ],
      "metadata": {
        "id": "q5y1uiIGgoCu"
      },
      "execution_count": 17,
      "outputs": []
    },
    {
      "cell_type": "code",
      "execution_count": 18,
      "metadata": {
        "id": "dpjGuqOiM4ik"
      },
      "outputs": [],
      "source": [
        "# Finally the node U7091 is better than U8670, we have our 5 influencers "
      ]
    },
    {
      "cell_type": "code",
      "execution_count": 20,
      "metadata": {
        "id": "2HeoYv6UM4ik",
        "colab": {
          "base_uri": "https://localhost:8080/",
          "height": 424
        },
        "outputId": "7d9b943a-2a6e-4494-842b-34b42d3d47c4"
      },
      "outputs": [
        {
          "output_type": "execute_result",
          "data": {
            "text/plain": [
              "     Unnamed: 0    name                        location\n",
              "0             0  U27476          san francisco bay area\n",
              "1             1   U4665                             NaN\n",
              "2             2  U14078  urbana-champaign illinois area\n",
              "3             3   U9628  urbana-champaign illinois area\n",
              "4             4   U9721       springfield illinois area\n",
              "..          ...     ...                             ...\n",
              "470         470  U14564  urbana-champaign illinois area\n",
              "471         471  U14112  urbana-champaign illinois area\n",
              "472         472   U4586  urbana-champaign illinois area\n",
              "473         473  U18520                             NaN\n",
              "474         474  U22044                             NaN\n",
              "\n",
              "[475 rows x 3 columns]"
            ],
            "text/html": [
              "\n",
              "  <div id=\"df-33be7335-5817-4f08-9227-37ef30354b10\">\n",
              "    <div class=\"colab-df-container\">\n",
              "      <div>\n",
              "<style scoped>\n",
              "    .dataframe tbody tr th:only-of-type {\n",
              "        vertical-align: middle;\n",
              "    }\n",
              "\n",
              "    .dataframe tbody tr th {\n",
              "        vertical-align: top;\n",
              "    }\n",
              "\n",
              "    .dataframe thead th {\n",
              "        text-align: right;\n",
              "    }\n",
              "</style>\n",
              "<table border=\"1\" class=\"dataframe\">\n",
              "  <thead>\n",
              "    <tr style=\"text-align: right;\">\n",
              "      <th></th>\n",
              "      <th>Unnamed: 0</th>\n",
              "      <th>name</th>\n",
              "      <th>location</th>\n",
              "    </tr>\n",
              "  </thead>\n",
              "  <tbody>\n",
              "    <tr>\n",
              "      <th>0</th>\n",
              "      <td>0</td>\n",
              "      <td>U27476</td>\n",
              "      <td>san francisco bay area</td>\n",
              "    </tr>\n",
              "    <tr>\n",
              "      <th>1</th>\n",
              "      <td>1</td>\n",
              "      <td>U4665</td>\n",
              "      <td>NaN</td>\n",
              "    </tr>\n",
              "    <tr>\n",
              "      <th>2</th>\n",
              "      <td>2</td>\n",
              "      <td>U14078</td>\n",
              "      <td>urbana-champaign illinois area</td>\n",
              "    </tr>\n",
              "    <tr>\n",
              "      <th>3</th>\n",
              "      <td>3</td>\n",
              "      <td>U9628</td>\n",
              "      <td>urbana-champaign illinois area</td>\n",
              "    </tr>\n",
              "    <tr>\n",
              "      <th>4</th>\n",
              "      <td>4</td>\n",
              "      <td>U9721</td>\n",
              "      <td>springfield illinois area</td>\n",
              "    </tr>\n",
              "    <tr>\n",
              "      <th>...</th>\n",
              "      <td>...</td>\n",
              "      <td>...</td>\n",
              "      <td>...</td>\n",
              "    </tr>\n",
              "    <tr>\n",
              "      <th>470</th>\n",
              "      <td>470</td>\n",
              "      <td>U14564</td>\n",
              "      <td>urbana-champaign illinois area</td>\n",
              "    </tr>\n",
              "    <tr>\n",
              "      <th>471</th>\n",
              "      <td>471</td>\n",
              "      <td>U14112</td>\n",
              "      <td>urbana-champaign illinois area</td>\n",
              "    </tr>\n",
              "    <tr>\n",
              "      <th>472</th>\n",
              "      <td>472</td>\n",
              "      <td>U4586</td>\n",
              "      <td>urbana-champaign illinois area</td>\n",
              "    </tr>\n",
              "    <tr>\n",
              "      <th>473</th>\n",
              "      <td>473</td>\n",
              "      <td>U18520</td>\n",
              "      <td>NaN</td>\n",
              "    </tr>\n",
              "    <tr>\n",
              "      <th>474</th>\n",
              "      <td>474</td>\n",
              "      <td>U22044</td>\n",
              "      <td>NaN</td>\n",
              "    </tr>\n",
              "  </tbody>\n",
              "</table>\n",
              "<p>475 rows × 3 columns</p>\n",
              "</div>\n",
              "      <button class=\"colab-df-convert\" onclick=\"convertToInteractive('df-33be7335-5817-4f08-9227-37ef30354b10')\"\n",
              "              title=\"Convert this dataframe to an interactive table.\"\n",
              "              style=\"display:none;\">\n",
              "        \n",
              "  <svg xmlns=\"http://www.w3.org/2000/svg\" height=\"24px\"viewBox=\"0 0 24 24\"\n",
              "       width=\"24px\">\n",
              "    <path d=\"M0 0h24v24H0V0z\" fill=\"none\"/>\n",
              "    <path d=\"M18.56 5.44l.94 2.06.94-2.06 2.06-.94-2.06-.94-.94-2.06-.94 2.06-2.06.94zm-11 1L8.5 8.5l.94-2.06 2.06-.94-2.06-.94L8.5 2.5l-.94 2.06-2.06.94zm10 10l.94 2.06.94-2.06 2.06-.94-2.06-.94-.94-2.06-.94 2.06-2.06.94z\"/><path d=\"M17.41 7.96l-1.37-1.37c-.4-.4-.92-.59-1.43-.59-.52 0-1.04.2-1.43.59L10.3 9.45l-7.72 7.72c-.78.78-.78 2.05 0 2.83L4 21.41c.39.39.9.59 1.41.59.51 0 1.02-.2 1.41-.59l7.78-7.78 2.81-2.81c.8-.78.8-2.07 0-2.86zM5.41 20L4 18.59l7.72-7.72 1.47 1.35L5.41 20z\"/>\n",
              "  </svg>\n",
              "      </button>\n",
              "      \n",
              "  <style>\n",
              "    .colab-df-container {\n",
              "      display:flex;\n",
              "      flex-wrap:wrap;\n",
              "      gap: 12px;\n",
              "    }\n",
              "\n",
              "    .colab-df-convert {\n",
              "      background-color: #E8F0FE;\n",
              "      border: none;\n",
              "      border-radius: 50%;\n",
              "      cursor: pointer;\n",
              "      display: none;\n",
              "      fill: #1967D2;\n",
              "      height: 32px;\n",
              "      padding: 0 0 0 0;\n",
              "      width: 32px;\n",
              "    }\n",
              "\n",
              "    .colab-df-convert:hover {\n",
              "      background-color: #E2EBFA;\n",
              "      box-shadow: 0px 1px 2px rgba(60, 64, 67, 0.3), 0px 1px 3px 1px rgba(60, 64, 67, 0.15);\n",
              "      fill: #174EA6;\n",
              "    }\n",
              "\n",
              "    [theme=dark] .colab-df-convert {\n",
              "      background-color: #3B4455;\n",
              "      fill: #D2E3FC;\n",
              "    }\n",
              "\n",
              "    [theme=dark] .colab-df-convert:hover {\n",
              "      background-color: #434B5C;\n",
              "      box-shadow: 0px 1px 3px 1px rgba(0, 0, 0, 0.15);\n",
              "      filter: drop-shadow(0px 1px 2px rgba(0, 0, 0, 0.3));\n",
              "      fill: #FFFFFF;\n",
              "    }\n",
              "  </style>\n",
              "\n",
              "      <script>\n",
              "        const buttonEl =\n",
              "          document.querySelector('#df-33be7335-5817-4f08-9227-37ef30354b10 button.colab-df-convert');\n",
              "        buttonEl.style.display =\n",
              "          google.colab.kernel.accessAllowed ? 'block' : 'none';\n",
              "\n",
              "        async function convertToInteractive(key) {\n",
              "          const element = document.querySelector('#df-33be7335-5817-4f08-9227-37ef30354b10');\n",
              "          const dataTable =\n",
              "            await google.colab.kernel.invokeFunction('convertToInteractive',\n",
              "                                                     [key], {});\n",
              "          if (!dataTable) return;\n",
              "\n",
              "          const docLinkHtml = 'Like what you see? Visit the ' +\n",
              "            '<a target=\"_blank\" href=https://colab.research.google.com/notebooks/data_table.ipynb>data table notebook</a>'\n",
              "            + ' to learn more about interactive tables.';\n",
              "          element.innerHTML = '';\n",
              "          dataTable['output_type'] = 'display_data';\n",
              "          await google.colab.output.renderOutput(dataTable, element);\n",
              "          const docLink = document.createElement('div');\n",
              "          docLink.innerHTML = docLinkHtml;\n",
              "          element.appendChild(docLink);\n",
              "        }\n",
              "      </script>\n",
              "    </div>\n",
              "  </div>\n",
              "  "
            ]
          },
          "metadata": {},
          "execution_count": 20
        }
      ],
      "source": [
        "loc = pd.read_csv('/content/location (1).csv')\n",
        "loc"
      ]
    },
    {
      "cell_type": "code",
      "execution_count": 21,
      "metadata": {
        "id": "g41zjp8kM4il",
        "colab": {
          "base_uri": "https://localhost:8080/"
        },
        "outputId": "6f5a2592-1c1b-483d-8466-55e07720f423"
      },
      "outputs": [
        {
          "output_type": "execute_result",
          "data": {
            "text/plain": [
              "0      U27476\n",
              "6      U24095\n",
              "42      U4600\n",
              "56     U27460\n",
              "93     U27588\n",
              "114    U24071\n",
              "230     U2691\n",
              "241    U15308\n",
              "267    U28776\n",
              "268     U2627\n",
              "301    U27515\n",
              "309     U4628\n",
              "313    U27532\n",
              "315    U15269\n",
              "397    U16084\n",
              "399    U22817\n",
              "415    U27575\n",
              "434    U27603\n",
              "450    U27613\n",
              "458    U16098\n",
              "Name: name, dtype: object"
            ]
          },
          "metadata": {},
          "execution_count": 21
        }
      ],
      "source": [
        "nodes_bay_area = loc['name'][loc['location'] == 'san francisco bay area']\n",
        "nodes_bay_area"
      ]
    },
    {
      "cell_type": "code",
      "execution_count": 22,
      "metadata": {
        "id": "ownoX-M2M4il",
        "colab": {
          "base_uri": "https://localhost:8080/"
        },
        "outputId": "dd9a3303-0faf-4a3a-b3cb-facf100442c0"
      },
      "outputs": [
        {
          "output_type": "execute_result",
          "data": {
            "text/plain": [
              "['U27476',\n",
              " 'U24095',\n",
              " 'U4600',\n",
              " 'U27460',\n",
              " 'U27588',\n",
              " 'U24071',\n",
              " 'U2691',\n",
              " 'U15308',\n",
              " 'U28776',\n",
              " 'U2627',\n",
              " 'U27515',\n",
              " 'U4628',\n",
              " 'U27532',\n",
              " 'U15269',\n",
              " 'U16084',\n",
              " 'U22817',\n",
              " 'U27575',\n",
              " 'U27603',\n",
              " 'U27613',\n",
              " 'U16098']"
            ]
          },
          "metadata": {},
          "execution_count": 22
        }
      ],
      "source": [
        "nodes_bay_area_list = nodes_bay_area.values.tolist()\n",
        "nodes_bay_area_list"
      ]
    },
    {
      "cell_type": "code",
      "source": [
        "#Lets see if the 5 biggest influencers are in the bay area\n",
        "similar = ()\n",
        "for i in range(len(infl)):\n",
        "  if infl[i] in nodes_bay_area_list:\n",
        "    similar.append(i)\n",
        "  else:\n",
        "    None\n",
        "  print(similar)\n"
      ],
      "metadata": {
        "colab": {
          "base_uri": "https://localhost:8080/"
        },
        "id": "QIB8r8EVepaC",
        "outputId": "d29793aa-1d30-406a-89bb-edbc827d6473"
      },
      "execution_count": 23,
      "outputs": [
        {
          "output_type": "stream",
          "name": "stdout",
          "text": [
            "()\n",
            "()\n",
            "()\n",
            "()\n",
            "()\n"
          ]
        }
      ]
    },
    {
      "cell_type": "code",
      "source": [
        "#there is any influencers in the bay area"
      ],
      "metadata": {
        "id": "miEwobvgiIn-"
      },
      "execution_count": null,
      "outputs": []
    },
    {
      "cell_type": "markdown",
      "metadata": {
        "id": "bQsoDH_RM4im"
      },
      "source": [
        "# Conclusion"
      ]
    },
    {
      "cell_type": "markdown",
      "metadata": {
        "id": "g0_HCgtPM4im"
      },
      "source": [
        "Reformulate the problem and bring your solution here"
      ]
    },
    {
      "cell_type": "code",
      "execution_count": null,
      "metadata": {
        "id": "suX87NohM4in"
      },
      "outputs": [],
      "source": []
    }
  ],
  "metadata": {
    "kernelspec": {
      "display_name": "Python 3",
      "language": "python",
      "name": "python3"
    },
    "language_info": {
      "codemirror_mode": {
        "name": "ipython",
        "version": 3
      },
      "file_extension": ".py",
      "mimetype": "text/x-python",
      "name": "python",
      "nbconvert_exporter": "python",
      "pygments_lexer": "ipython3",
      "version": "3.6.9"
    },
    "colab": {
      "provenance": []
    }
  },
  "nbformat": 4,
  "nbformat_minor": 0
}