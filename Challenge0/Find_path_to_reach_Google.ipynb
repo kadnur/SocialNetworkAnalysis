{
 "cells": [
  {
   "cell_type": "code",
   "execution_count": 2,
   "metadata": {},
   "outputs": [],
   "source": [
    "import networkx as nx\n",
    "# https://networkx.github.io/documentation/stable/reference/index.html\n",
    "import matplotlib.pyplot as plt\n",
    "from matplotlib import pylab\n",
    "import numpy as np\n",
    "import pandas as pd"
   ]
  },
  {
   "cell_type": "code",
   "execution_count": 3,
   "metadata": {},
   "outputs": [],
   "source": [
    "# load the graph\n",
    "# The graph is an extraction from LinkedIn Social Network\n",
    "G = nx.read_gexf(\"smallLinkedin.gexf\")"
   ]
  },
  {
   "cell_type": "markdown",
   "metadata": {},
   "source": [
    "## Exploration of the graph : relational data understanding\n",
    "## Premières métriques"
   ]
  },
  {
   "cell_type": "code",
   "execution_count": null,
   "metadata": {},
   "outputs": [],
   "source": []
  },
  {
   "cell_type": "code",
   "execution_count": 4,
   "metadata": {},
   "outputs": [
    {
     "name": "stdout",
     "output_type": "stream",
     "text": [
      "Graph with 205 nodes and 287 edges\n"
     ]
    }
   ],
   "source": [
    "# networkx short summary of information for the graph g\n",
    "print(nx.info(G))"
   ]
  },
  {
   "cell_type": "code",
   "execution_count": 5,
   "metadata": {},
   "outputs": [
    {
     "data": {
      "text/plain": [
       "205"
      ]
     },
     "execution_count": 5,
     "metadata": {},
     "output_type": "execute_result"
    }
   ],
   "source": [
    "G.number_of_nodes()"
   ]
  },
  {
   "cell_type": "code",
   "execution_count": 6,
   "metadata": {},
   "outputs": [
    {
     "data": {
      "text/plain": [
       "287"
      ]
     },
     "execution_count": 6,
     "metadata": {},
     "output_type": "execute_result"
    }
   ],
   "source": [
    "G.number_of_edges()"
   ]
  },
  {
   "cell_type": "markdown",
   "metadata": {},
   "source": [
    "## Degree\n"
   ]
  },
  {
   "cell_type": "code",
   "execution_count": 7,
   "metadata": {},
   "outputs": [
    {
     "data": {
      "image/png": "[encoded data removed]",
      "text/plain": [
       "<Figure size 432x288 with 1 Axes>"
      ]
     },
     "metadata": {
      "needs_background": "light"
     },
     "output_type": "display_data"
    }
   ],
   "source": [
    "# Draw the degree distribution. If powerlow distribution, the graph shows one of the properties\n",
    "# of a real (complex) network, such as social networks, biological networks, internet networks.\n",
    "plt.figure(num=None)\n",
    "fig = plt.figure(1)\n",
    "degree_sequence=[d for n, d in G.degree()] # degree sequence\n",
    "plt.hist(degree_sequence, bins='auto')  \n",
    "plt.title(\"powerlaw degree distribution\")\n",
    "plt.ylabel(\"# nodes\")\n",
    "plt.xlabel(\"degree\")\n",
    "plt.show()\n",
    "pylab.close()\n",
    "del fig"
   ]
  },
  {
   "cell_type": "code",
   "execution_count": 8,
   "metadata": {},
   "outputs": [],
   "source": [
    "#G.degree()"
   ]
  },
  {
   "cell_type": "code",
   "execution_count": 9,
   "metadata": {},
   "outputs": [
    {
     "name": "stdout",
     "output_type": "stream",
     "text": [
      "The 5 nodes with the highest degree are: [('U2177', 12), ('U5977', 16), ('U2102', 20), ('U12465', 26), ('U7995', 119)]\n",
      "5 of the nodes with the smallest degree are: [('U15609', 1), ('U15689', 1), ('U21824', 1), ('U15715', 1), ('U15885', 1)]\n"
     ]
    }
   ],
   "source": [
    "# To see the nodes with the highest degree\n",
    "# We use \"sorted\" to sort a list\n",
    "# We build the list of items (key + value) from NetworkX dictionary given by G.degree()\n",
    "# The sort key is a lambda function which gives the indice of the data to sort.\n",
    "# t is a tuple (key, value) from the dict\n",
    "# Lambda says to sort with the value of the tuple: t[1], here the value form (key,value), i.e. d (the degree)\n",
    "# to sort the tuple on the key, choose t[0]\n",
    "sorted_nodes_by_degree=sorted([(n,d) for n, d in G.degree()], key=lambda t: t[1])\n",
    "print(\"The 5 nodes with the highest degree are: %s\" % str(sorted_nodes_by_degree[-5:]))\n",
    "print(\"5 of the nodes with the smallest degree are: %s\" % str(sorted_nodes_by_degree[:5]))"
   ]
  },
  {
   "cell_type": "markdown",
   "metadata": {},
   "source": [
    "## Neighbors"
   ]
  },
  {
   "cell_type": "code",
   "execution_count": 10,
   "metadata": {},
   "outputs": [],
   "source": [
    "me = \"U7989\""
   ]
  },
  {
   "cell_type": "code",
   "execution_count": 11,
   "metadata": {},
   "outputs": [
    {
     "name": "stdout",
     "output_type": "stream",
     "text": [
      "U7989 has 4 neighbors\n",
      "U7989 has 4 neighbors\n"
     ]
    }
   ],
   "source": [
    "# To see the neighbors of a node\n",
    "print(\"%s has %d neighbors\" % (me, len([n for n in G.neighbors(me)])))\n",
    "print(\"%s has %d neighbors\" % (me, G.degree(me)))\n"
   ]
  },
  {
   "cell_type": "code",
   "execution_count": 12,
   "metadata": {},
   "outputs": [
    {
     "name": "stdout",
     "output_type": "stream",
     "text": [
      "U7995\n",
      "U7982\n",
      "U8018\n",
      "U7976\n"
     ]
    }
   ],
   "source": [
    "for n in G.neighbors(me):\n",
    "    print(n)"
   ]
  },
  {
   "cell_type": "code",
   "execution_count": 13,
   "metadata": {},
   "outputs": [
    {
     "data": {
      "text/plain": [
       "0.5"
      ]
     },
     "execution_count": 13,
     "metadata": {},
     "output_type": "execute_result"
    }
   ],
   "source": [
    "# Clustering coefficient, or local density\n",
    "# \"Friends of my friends are also my friends\"\n",
    "# For unweighted graphs, the clustering of a node u is \n",
    "# the fraction of possible triangles through that node that exist\n",
    "# If u has 3 neighbors, and 2 of them are neighbors (friends), there is 1 triangle, and\n",
    "# there are 3 possible triangles. The clustering coefficcient for u i 1/3 \n",
    "# https://networkx.github.io/documentation/stable/reference/algorithms/generated/networkx.algorithms.cluster.clustering.html#networkx.algorithms.cluster.clustering\n",
    "nx.clustering(G, me)"
   ]
  },
  {
   "cell_type": "code",
   "execution_count": 14,
   "metadata": {},
   "outputs": [
    {
     "data": {
      "text/plain": [
       "{'U2177': 0.10606060606060606,\n",
       " 'U5977': 0.06666666666666667,\n",
       " 'U2102': 0.06842105263157895,\n",
       " 'U12465': 0.06461538461538462,\n",
       " 'U7995': 0.00128186867967526}"
      ]
     },
     "execution_count": 14,
     "metadata": {},
     "output_type": "execute_result"
    }
   ],
   "source": [
    "# What about our 5 highest degree nodes?\n",
    "nx.clustering(G, [n for n, d in sorted_nodes_by_degree[-5:]])\n",
    "# The more the degree, the less the number of trinangles"
   ]
  },
  {
   "cell_type": "code",
   "execution_count": 15,
   "metadata": {},
   "outputs": [
    {
     "name": "stdout",
     "output_type": "stream",
     "text": [
      "Mean clustering coefficient 0.181355\n"
     ]
    }
   ],
   "source": [
    "# What about all the nodes?\n",
    "print(\"Mean clustering coefficient %f\" % np.mean(list(nx.clustering(G).values())))\n",
    "# percentage of triangles among possible ones"
   ]
  },
  {
   "cell_type": "code",
   "execution_count": 16,
   "metadata": {},
   "outputs": [
    {
     "data": {
      "text/plain": [
       "0.18135453902092108"
      ]
     },
     "execution_count": 16,
     "metadata": {},
     "output_type": "execute_result"
    }
   ],
   "source": [
    "nx.average_clustering(G) # the same, the average is computed for you"
   ]
  },
  {
   "cell_type": "code",
   "execution_count": 17,
   "metadata": {},
   "outputs": [
    {
     "data": {
      "text/plain": [
       "0.013725490196078431"
      ]
     },
     "execution_count": 17,
     "metadata": {},
     "output_type": "execute_result"
    }
   ],
   "source": [
    "# Global density\n",
    "# Let's consider now all pairs of nodes, even non-neighbors\n",
    "# How far from a complete graph are we?\n",
    "# Guess the formula?\n",
    "nx.density(G)"
   ]
  },
  {
   "cell_type": "markdown",
   "metadata": {},
   "source": [
    "## Paths, distances"
   ]
  },
  {
   "cell_type": "markdown",
   "metadata": {},
   "source": [
    "##### Most real networks have very short paths on average. This is known as the small-world property. The popular notion that social networks have six degrees of separation originated from Milgram’s experiment.\n",
    "In practice, social graphs have diameter less than 20. A social network like Facebook has a diameter that shrinks ; Facebook does not publish this information, but research studies estimate it 6.6 degrees of separation The Anatomy of the Facebook Social Graph http://arxiv.org/abs/1111.4503 or 4.74 Four Degrees of Separation http://arxiv.org/abs/1111.4570..."
   ]
  },
  {
   "cell_type": "code",
   "execution_count": 18,
   "metadata": {},
   "outputs": [
    {
     "data": {
      "text/plain": [
       "11"
      ]
     },
     "execution_count": 18,
     "metadata": {},
     "output_type": "execute_result"
    }
   ],
   "source": [
    "# The diameter is the longest of the shortest path\n",
    "nx.diameter(G)"
   ]
  },
  {
   "cell_type": "markdown",
   "metadata": {},
   "source": [
    "Stop here a minute: what is the complexity of this operation in O(n), n number of nodes?"
   ]
  },
  {
   "cell_type": "code",
   "execution_count": 19,
   "metadata": {},
   "outputs": [
    {
     "data": {
      "text/plain": [
       "7"
      ]
     },
     "execution_count": 19,
     "metadata": {},
     "output_type": "execute_result"
    }
   ],
   "source": [
    "# Eccentricity is, for a node, the longest shortest path from/to this node \n",
    "# NB we precompute the length of shortest paths here, because it costs! and we will use it several times\n",
    "# For the small graph, you don't feel the computation time, but you'll see, in the Challenge 1 ;-)\n",
    "precomputed_eccentricity=nx.eccentricity(G)\n",
    "precomputed_eccentricity[me]"
   ]
  },
  {
   "cell_type": "code",
   "execution_count": 20,
   "metadata": {},
   "outputs": [
    {
     "name": "stdout",
     "output_type": "stream",
     "text": [
      "The 5 nodes with the longest shortest distance to others are: [('U14555', 11), ('U3014', 11), ('U6024', 11), ('U14566', 11), ('U14548', 11)]\n"
     ]
    }
   ],
   "source": [
    "sorted_nodes_by_max_distance=sorted([(n,d) for n, d in precomputed_eccentricity.items()], key=lambda t: t[1])\n",
    "print(\"The 5 nodes with the longest shortest distance to others are: %s\" % str(sorted_nodes_by_max_distance[-5:]))"
   ]
  },
  {
   "cell_type": "code",
   "execution_count": 21,
   "metadata": {},
   "outputs": [
    {
     "data": {
      "text/plain": [
       "[('U21822', 6),\n",
       " ('U7982', 6),\n",
       " ('U15683', 6),\n",
       " ('U2102', 6),\n",
       " ('U11824', 7),\n",
       " ('U21824', 7),\n",
       " ('U2177', 7),\n",
       " ('U2155', 7),\n",
       " ('U21846', 7),\n",
       " ('U7995', 7),\n",
       " ('U21847', 7),\n",
       " ('U2200', 7),\n",
       " ('U21859', 7),\n",
       " ('U21843', 7),\n",
       " ('U8003', 7),\n",
       " ('U12471', 7),\n",
       " ('U21862', 7),\n",
       " ('U7989', 7),\n",
       " ('U21839', 7),\n",
       " ('U21831', 7),\n",
       " ('U21829', 7),\n",
       " ('U2112', 7),\n",
       " ('U10048', 7),\n",
       " ('U7983', 7),\n",
       " ('U2101', 7),\n",
       " ('U15609', 8),\n",
       " ('U8046', 8),\n",
       " ('U15689', 8),\n",
       " ('U15715', 8),\n",
       " ('U15885', 8),\n",
       " ('U2124', 8),\n",
       " ('U15528', 8),\n",
       " ('U15773', 8),\n",
       " ('U15805', 8),\n",
       " ('U15820', 8),\n",
       " ('U15771', 8),\n",
       " ('U15567', 8),\n",
       " ('U10043', 8),\n",
       " ('U15554', 8),\n",
       " ('U15770', 8),\n",
       " ('U15458', 8),\n",
       " ('U15459', 8),\n",
       " ('U15794', 8),\n",
       " ('U15748', 8),\n",
       " ('U15524', 8),\n",
       " ('U15889', 8),\n",
       " ('U15568', 8),\n",
       " ('U15485', 8),\n",
       " ('U15796', 8),\n",
       " ('U15529', 8),\n",
       " ('U21869', 8),\n",
       " ('U15581', 8),\n",
       " ('U15552', 8),\n",
       " ('U15499', 8),\n",
       " ('U15838', 8),\n",
       " ('U15665', 8),\n",
       " ('U21954', 8),\n",
       " ('U15875', 8),\n",
       " ('U15549', 8),\n",
       " ('U15841', 8),\n",
       " ('U8893', 8),\n",
       " ('U15869', 8),\n",
       " ('U15810', 8),\n",
       " ('U15467', 8),\n",
       " ('U12465', 8),\n",
       " ('U15687', 8),\n",
       " ('U15468', 8),\n",
       " ('U15868', 8),\n",
       " ('U15873', 8),\n",
       " ('U15669', 8),\n",
       " ('U15536', 8),\n",
       " ('U15681', 8),\n",
       " ('U15445', 8),\n",
       " ('U15881', 8),\n",
       " ('U15759', 8),\n",
       " ('U15589', 8),\n",
       " ('U15685', 8),\n",
       " ('U15490', 8),\n",
       " ('U15573', 8),\n",
       " ('U15443', 8),\n",
       " ('U15822', 8),\n",
       " ('U21881', 8),\n",
       " ('U15540', 8),\n",
       " ('U15543', 8),\n",
       " ('U15750', 8),\n",
       " ('U15615', 8),\n",
       " ('U15725', 8),\n",
       " ('U15718', 8),\n",
       " ('U15594', 8),\n",
       " ('U15896', 8),\n",
       " ('U15772', 8),\n",
       " ('U15732', 8),\n",
       " ('U15675', 8),\n",
       " ('U15866', 8),\n",
       " ('U15617', 8),\n",
       " ('U15696', 8),\n",
       " ('U15864', 8),\n",
       " ('U2110', 8),\n",
       " ('U15816', 8),\n",
       " ('U15835', 8),\n",
       " ('U15544', 8),\n",
       " ('U15640', 8),\n",
       " ('U15691', 8),\n",
       " ('U11827', 8),\n",
       " ('U15781', 8),\n",
       " ('U15782', 8),\n",
       " ('U15760', 8),\n",
       " ('U15497', 8),\n",
       " ('U13035', 8),\n",
       " ('U15661', 8),\n",
       " ('U15883', 8),\n",
       " ('U15865', 8),\n",
       " ('U15821', 8),\n",
       " ('U10060', 8),\n",
       " ('U2170', 8),\n",
       " ('U15556', 8),\n",
       " ('U15741', 8),\n",
       " ('U15779', 8),\n",
       " ('U15614', 8),\n",
       " ('U15631', 8),\n",
       " ('U15466', 8),\n",
       " ('U15440', 8),\n",
       " ('U15450', 8),\n",
       " ('U15639', 8),\n",
       " ('U15619', 8),\n",
       " ('U10077', 8),\n",
       " ('U7976', 8),\n",
       " ('U15636', 8),\n",
       " ('U10076', 8),\n",
       " ('U15736', 8),\n",
       " ('U15735', 8),\n",
       " ('U2180', 8),\n",
       " ('U15442', 8),\n",
       " ('U15658', 8),\n",
       " ('U15520', 8),\n",
       " ('U15886', 8),\n",
       " ('U8068', 8),\n",
       " ('U15618', 8),\n",
       " ('U15531', 8),\n",
       " ('U15674', 8),\n",
       " ('U15808', 8),\n",
       " ('U15645', 8),\n",
       " ('U8018', 8),\n",
       " ('U15579', 8),\n",
       " ('U15753', 8),\n",
       " ('U15487', 8),\n",
       " ('U15494', 8),\n",
       " ('U15603', 8),\n",
       " ('U15610', 8),\n",
       " ('U15532', 8)]"
      ]
     },
     "execution_count": 21,
     "metadata": {},
     "output_type": "execute_result"
    }
   ],
   "source": [
    "# What about the closest nodes to others\n",
    "sorted_nodes_by_max_distance[:150]"
   ]
  },
  {
   "cell_type": "markdown",
   "metadata": {},
   "source": [
    "The minimum of the longest shortest path is 6. It is the radius of the graph\n",
    "The center of the graph is composed of 4 nodes, the nodes with eccentricity equal to the radius"
   ]
  },
  {
   "cell_type": "markdown",
   "metadata": {},
   "source": [
    "## Conclusion: Our LinkedIn graph is like a protein network!\n",
    "\n",
    "Real networks have the same properties : \n",
    "* the small-world property (low diameter), \n",
    "* high average clustering coefficient \n",
    "* and power-law distribution of degree.\n",
    "\n"
   ]
  },
  {
   "cell_type": "markdown",
   "metadata": {},
   "source": [
    "# How to reach Google guys?"
   ]
  },
  {
   "cell_type": "code",
   "execution_count": 22,
   "metadata": {},
   "outputs": [
    {
     "data": {
      "text/html": [
       "<div>\n",
       "<style scoped>\n",
       "    .dataframe tbody tr th:only-of-type {\n",
       "        vertical-align: middle;\n",
       "    }\n",
       "\n",
       "    .dataframe tbody tr th {\n",
       "        vertical-align: top;\n",
       "    }\n",
       "\n",
       "    .dataframe thead th {\n",
       "        text-align: right;\n",
       "    }\n",
       "</style>\n",
       "<table border=\"1\" class=\"dataframe\">\n",
       "  <thead>\n",
       "    <tr style=\"text-align: right;\">\n",
       "      <th></th>\n",
       "      <th>name</th>\n",
       "      <th>employer</th>\n",
       "    </tr>\n",
       "  </thead>\n",
       "  <tbody>\n",
       "    <tr>\n",
       "      <th>0</th>\n",
       "      <td>U21881</td>\n",
       "      <td>lsst</td>\n",
       "    </tr>\n",
       "    <tr>\n",
       "      <th>1</th>\n",
       "      <td>U21881</td>\n",
       "      <td>ncsa</td>\n",
       "    </tr>\n",
       "    <tr>\n",
       "      <th>2</th>\n",
       "      <td>U21881</td>\n",
       "      <td>national center for supercomputing applications</td>\n",
       "    </tr>\n",
       "    <tr>\n",
       "      <th>3</th>\n",
       "      <td>U21881</td>\n",
       "      <td>grace community church champaign il</td>\n",
       "    </tr>\n",
       "    <tr>\n",
       "      <th>4</th>\n",
       "      <td>U8046</td>\n",
       "      <td>wolfram research</td>\n",
       "    </tr>\n",
       "  </tbody>\n",
       "</table>\n",
       "</div>"
      ],
      "text/plain": [
       "     name                                         employer\n",
       "0  U21881                                             lsst\n",
       "1  U21881                                             ncsa\n",
       "2  U21881  national center for supercomputing applications\n",
       "3  U21881              grace community church champaign il\n",
       "4   U8046                                 wolfram research"
      ]
     },
     "execution_count": 22,
     "metadata": {},
     "output_type": "execute_result"
    }
   ],
   "source": [
    "# We use pandas dataframes to load attributes\n",
    "# Nodes are characterized by a list of colleges, a list of employers, a list of location\n",
    "# The order means nothing. Nothing allow us to determine the current employer...\n",
    "df = pd.read_csv('employer.csv', sep='\\t', header='infer')\n",
    "df.head()"
   ]
  },
  {
   "cell_type": "code",
   "execution_count": 23,
   "metadata": {},
   "outputs": [
    {
     "data": {
      "text/html": [
       "<div>\n",
       "<style scoped>\n",
       "    .dataframe tbody tr th:only-of-type {\n",
       "        vertical-align: middle;\n",
       "    }\n",
       "\n",
       "    .dataframe tbody tr th {\n",
       "        vertical-align: top;\n",
       "    }\n",
       "\n",
       "    .dataframe thead th {\n",
       "        text-align: right;\n",
       "    }\n",
       "</style>\n",
       "<table border=\"1\" class=\"dataframe\">\n",
       "  <thead>\n",
       "    <tr style=\"text-align: right;\">\n",
       "      <th></th>\n",
       "      <th>employer</th>\n",
       "    </tr>\n",
       "  </thead>\n",
       "  <tbody>\n",
       "    <tr>\n",
       "      <th>count</th>\n",
       "      <td>92.000000</td>\n",
       "    </tr>\n",
       "    <tr>\n",
       "      <th>mean</th>\n",
       "      <td>2.663043</td>\n",
       "    </tr>\n",
       "    <tr>\n",
       "      <th>std</th>\n",
       "      <td>1.923122</td>\n",
       "    </tr>\n",
       "    <tr>\n",
       "      <th>min</th>\n",
       "      <td>1.000000</td>\n",
       "    </tr>\n",
       "    <tr>\n",
       "      <th>25%</th>\n",
       "      <td>1.000000</td>\n",
       "    </tr>\n",
       "    <tr>\n",
       "      <th>50%</th>\n",
       "      <td>2.000000</td>\n",
       "    </tr>\n",
       "    <tr>\n",
       "      <th>75%</th>\n",
       "      <td>4.000000</td>\n",
       "    </tr>\n",
       "    <tr>\n",
       "      <th>max</th>\n",
       "      <td>9.000000</td>\n",
       "    </tr>\n",
       "  </tbody>\n",
       "</table>\n",
       "</div>"
      ],
      "text/plain": [
       "        employer\n",
       "count  92.000000\n",
       "mean    2.663043\n",
       "std     1.923122\n",
       "min     1.000000\n",
       "25%     1.000000\n",
       "50%     2.000000\n",
       "75%     4.000000\n",
       "max     9.000000"
      ]
     },
     "execution_count": 23,
     "metadata": {},
     "output_type": "execute_result"
    }
   ],
   "source": [
    "df.groupby('name').count().describe()"
   ]
  },
  {
   "cell_type": "markdown",
   "metadata": {},
   "source": [
    "* 92 users in this dataframe. Some nodes are not characterized by the attribute employer\n",
    "* Median: 50% of users have more than 2 employers, 75% of them have 4 employers, and the max is 9!!!!"
   ]
  },
  {
   "cell_type": "code",
   "execution_count": 24,
   "metadata": {},
   "outputs": [
    {
     "data": {
      "text/plain": [
       "google                                              6\n",
       "university of illinois at urbana-champaign          6\n",
       "texas a&amp;m university                            5\n",
       "health alliance medical plans                       3\n",
       "life on vine                                        2\n",
       "                                                   ..\n",
       "hl precision machining inc.                         1\n",
       "mettler center; self-employed                       1\n",
       "body evolve studios                                 1\n",
       "elite foglia ymca lincolnshire tennis club et al    1\n",
       "university inn                                      1\n",
       "Name: employer, Length: 223, dtype: int64"
      ]
     },
     "execution_count": 24,
     "metadata": {},
     "output_type": "execute_result"
    }
   ],
   "source": [
    "df['employer'].value_counts()"
   ]
  },
  {
   "cell_type": "code",
   "execution_count": 25,
   "metadata": {},
   "outputs": [
    {
     "data": {
      "text/html": [
       "<div>\n",
       "<style scoped>\n",
       "    .dataframe tbody tr th:only-of-type {\n",
       "        vertical-align: middle;\n",
       "    }\n",
       "\n",
       "    .dataframe tbody tr th {\n",
       "        vertical-align: top;\n",
       "    }\n",
       "\n",
       "    .dataframe thead th {\n",
       "        text-align: right;\n",
       "    }\n",
       "</style>\n",
       "<table border=\"1\" class=\"dataframe\">\n",
       "  <thead>\n",
       "    <tr style=\"text-align: right;\">\n",
       "      <th></th>\n",
       "      <th>name</th>\n",
       "      <th>employer</th>\n",
       "    </tr>\n",
       "  </thead>\n",
       "  <tbody>\n",
       "    <tr>\n",
       "      <th>15</th>\n",
       "      <td>U2177</td>\n",
       "      <td>google</td>\n",
       "    </tr>\n",
       "    <tr>\n",
       "      <th>61</th>\n",
       "      <td>U21869</td>\n",
       "      <td>google</td>\n",
       "    </tr>\n",
       "    <tr>\n",
       "      <th>131</th>\n",
       "      <td>U12465</td>\n",
       "      <td>google</td>\n",
       "    </tr>\n",
       "    <tr>\n",
       "      <th>144</th>\n",
       "      <td>U12471</td>\n",
       "      <td>google inc</td>\n",
       "    </tr>\n",
       "    <tr>\n",
       "      <th>148</th>\n",
       "      <td>U2992</td>\n",
       "      <td>google</td>\n",
       "    </tr>\n",
       "  </tbody>\n",
       "</table>\n",
       "</div>"
      ],
      "text/plain": [
       "       name    employer\n",
       "15    U2177      google\n",
       "61   U21869      google\n",
       "131  U12465      google\n",
       "144  U12471  google inc\n",
       "148   U2992      google"
      ]
     },
     "execution_count": 25,
     "metadata": {},
     "output_type": "execute_result"
    }
   ],
   "source": [
    "# Boolean row selection by values in a column\n",
    "df.loc[df['employer'].isin(['google','google inc']),:].head()\n"
   ]
  },
  {
   "cell_type": "code",
   "execution_count": 26,
   "metadata": {},
   "outputs": [
    {
     "data": {
      "text/plain": [
       "7"
      ]
     },
     "execution_count": 26,
     "metadata": {},
     "output_type": "execute_result"
    }
   ],
   "source": [
    "# How many nodes match google\n",
    "len(df.loc[df['employer'].isin(['google','google inc']),:].drop_duplicates())"
   ]
  },
  {
   "cell_type": "code",
   "execution_count": 27,
   "metadata": {},
   "outputs": [
    {
     "data": {
      "text/plain": [
       "array(['U2177', 'U21869', 'U12465', 'U12471', 'U2992', 'U12539', 'U2923'],\n",
       "      dtype=object)"
      ]
     },
     "execution_count": 27,
     "metadata": {},
     "output_type": "execute_result"
    }
   ],
   "source": [
    "google=df.loc[df['employer'].isin(['google','google inc']),'name'].values\n",
    "google"
   ]
  },
  {
   "cell_type": "markdown",
   "metadata": {},
   "source": [
    "Yes!!! 7 (unique) users are working (or worked) for Google (or Google inc)! How canI  \"use\" them? Do I pick one of them randomly?\n",
    "\n",
    "Maybe I should try to be introduced by friends? Or the friends of my friens? Let's use the Strength of Weak Ties!"
   ]
  },
  {
   "cell_type": "markdown",
   "metadata": {},
   "source": [
    "## What about me? My name is U7989"
   ]
  },
  {
   "cell_type": "code",
   "execution_count": 28,
   "metadata": {},
   "outputs": [
    {
     "data": {
      "text/html": [
       "<div>\n",
       "<style scoped>\n",
       "    .dataframe tbody tr th:only-of-type {\n",
       "        vertical-align: middle;\n",
       "    }\n",
       "\n",
       "    .dataframe tbody tr th {\n",
       "        vertical-align: top;\n",
       "    }\n",
       "\n",
       "    .dataframe thead th {\n",
       "        text-align: right;\n",
       "    }\n",
       "</style>\n",
       "<table border=\"1\" class=\"dataframe\">\n",
       "  <thead>\n",
       "    <tr style=\"text-align: right;\">\n",
       "      <th></th>\n",
       "      <th>name</th>\n",
       "      <th>employer</th>\n",
       "    </tr>\n",
       "  </thead>\n",
       "  <tbody>\n",
       "    <tr>\n",
       "      <th>241</th>\n",
       "      <td>U7989</td>\n",
       "      <td>prairie winds of urbana</td>\n",
       "    </tr>\n",
       "    <tr>\n",
       "      <th>242</th>\n",
       "      <td>U7989</td>\n",
       "      <td>wolfram research</td>\n",
       "    </tr>\n",
       "    <tr>\n",
       "      <th>243</th>\n",
       "      <td>U7989</td>\n",
       "      <td>news-gazette inc</td>\n",
       "    </tr>\n",
       "    <tr>\n",
       "      <th>244</th>\n",
       "      <td>U7989</td>\n",
       "      <td>university inn</td>\n",
       "    </tr>\n",
       "  </tbody>\n",
       "</table>\n",
       "</div>"
      ],
      "text/plain": [
       "      name                 employer\n",
       "241  U7989  prairie winds of urbana\n",
       "242  U7989         wolfram research\n",
       "243  U7989         news-gazette inc\n",
       "244  U7989           university inn"
      ]
     },
     "execution_count": 28,
     "metadata": {},
     "output_type": "execute_result"
    }
   ],
   "source": [
    "# I am node U7989\n",
    "df[df.name == me]"
   ]
  },
  {
   "cell_type": "markdown",
   "metadata": {},
   "source": [
    "Arghhh. No collegue to help me, but I still have friends !"
   ]
  },
  {
   "cell_type": "code",
   "execution_count": 29,
   "metadata": {},
   "outputs": [
    {
     "data": {
      "text/plain": [
       "4"
      ]
     },
     "execution_count": 29,
     "metadata": {},
     "output_type": "execute_result"
    }
   ],
   "source": [
    "# How many neighbors?\n",
    "G.degree(me)"
   ]
  },
  {
   "cell_type": "code",
   "execution_count": 30,
   "metadata": {},
   "outputs": [
    {
     "name": "stdout",
     "output_type": "stream",
     "text": [
      "We have search 132 users\n"
     ]
    }
   ],
   "source": [
    "# Maybe, my neighbors know someone who work at Google and may recommend me to their boss?\n",
    "i = 0\n",
    "for nbr in G.neighbors(me):\n",
    "    for nbr_nbr in G.neighbors(nbr):\n",
    "        i+=1\n",
    "        if nbr_nbr in google:\n",
    "            print(\"My friend %s has a neighbor who works at Google: %s\" % (nbr,nbr_nbr))\n",
    "print(\"We have search %d users\" % i)"
   ]
  },
  {
   "cell_type": "markdown",
   "metadata": {},
   "source": [
    "## Let's use the weaker ties! And the shortest path: the shorter the path, the more concerned the Google employee who may get me pulled in"
   ]
  },
  {
   "cell_type": "code",
   "execution_count": 31,
   "metadata": {},
   "outputs": [
    {
     "data": {
      "text/plain": [
       "['U7989', 'U7982', 'U2102', 'U2177']"
      ]
     },
     "execution_count": 31,
     "metadata": {},
     "output_type": "execute_result"
    }
   ],
   "source": [
    "p=5000\n",
    "path = []\n",
    "for n in google:\n",
    "    pp=nx.shortest_path(G,me, n)\n",
    "    if len(pp) < p :\n",
    "        path=pp\n",
    "        p=len(pp)\n",
    "path"
   ]
  },
  {
   "cell_type": "markdown",
   "metadata": {},
   "source": [
    "Not so bad! Just 3 intermediaries to ask for a recommendation!"
   ]
  },
  {
   "cell_type": "markdown",
   "metadata": {},
   "source": [
    "## Other strategies?"
   ]
  },
  {
   "cell_type": "markdown",
   "metadata": {},
   "source": [
    "Maybe, we could use a longer path, but with people sharing attributes, they might be more concerned!\n",
    "\n",
    "What if someone in the path drops your CV? Maybe ensure resilience, i.e. choose nodes that, if removed, won't disconnect you from your targets. Centrality measures can help here.\n",
    "\n",
    "To compare Strategies, you need a measure. What about the probality to reach targets when removing 1, 2, 3 nodes from the path?"
   ]
  },
  {
   "cell_type": "markdown",
   "metadata": {},
   "source": [
    "# Drawing"
   ]
  },
  {
   "cell_type": "code",
   "execution_count": 32,
   "metadata": {},
   "outputs": [],
   "source": [
    "pos = nx.spring_layout(G, iterations=500)"
   ]
  },
  {
   "cell_type": "code",
   "execution_count": 33,
   "metadata": {},
   "outputs": [
    {
     "data": {
      "text/plain": [
       "<matplotlib.collections.PathCollection at 0x7f2d3a2d5ca0>"
      ]
     },
     "execution_count": 33,
     "metadata": {},
     "output_type": "execute_result"
    },
    {
     "data": {
      "image/png": "[encoded data removed]",
      "text/plain": [
       "<Figure size 432x288 with 1 Axes>"
      ]
     },
     "metadata": {},
     "output_type": "display_data"
    }
   ],
   "source": [
    "nx.draw_networkx_nodes(G,pos)"
   ]
  },
  {
   "cell_type": "code",
   "execution_count": 34,
   "metadata": {},
   "outputs": [],
   "source": [
    "# 4 colors : me, google target U2177, other google employees and others\n",
    "color_map={}\n",
    "color_map[me] = 1.0\n",
    "for n in google:\n",
    "    if n=='U2177':\n",
    "        color_map[n] = 0.6\n",
    "    else:\n",
    "        color_map[n] = 0.5\n",
    "color_map[None]=0.0    "
   ]
  },
  {
   "cell_type": "code",
   "execution_count": 35,
   "metadata": {},
   "outputs": [
    {
     "data": {
      "text/plain": [
       "[27, 18, 46, 51, 99, 70, 48, 49, 6]"
      ]
     },
     "execution_count": 35,
     "metadata": {},
     "output_type": "execute_result"
    }
   ],
   "source": [
    "# If else in list comprehensio\n",
    "l = [22, 13, 45, 50, 98, 69, 43, 44, 1]\n",
    "[x+1 if x >= 45 else x+5 for x in l]"
   ]
  },
  {
   "cell_type": "code",
   "execution_count": 36,
   "metadata": {},
   "outputs": [],
   "source": [
    "# generate the color values list in the correct order (iteration of nodes)\n",
    "color_values = [color_map[node] if node in color_map else color_map[None] for node in G.nodes()]\n",
    "size_values = [300 if (node=='U2177' or node==me) else 10 for node in G.nodes()]"
   ]
  },
  {
   "cell_type": "code",
   "execution_count": 37,
   "metadata": {},
   "outputs": [
    {
     "data": {
      "image/png": "[encoded data removed]",
      "text/plain": [
       "<Figure size 1600x1600 with 1 Axes>"
      ]
     },
     "metadata": {},
     "output_type": "display_data"
    }
   ],
   "source": [
    "import matplotlib.pyplot as plt\n",
    "from matplotlib import pylab\n",
    "plt.figure(num=None, figsize=(20, 20), dpi=80)\n",
    "plt.axis('off')\n",
    "fig = plt.figure(1)\n",
    "nx.draw_networkx_nodes(G,pos, node_size=size_values, cmap=plt.get_cmap('jet'), node_color=color_values)\n",
    "nx.draw_networkx_edges(G,pos)\n",
    "cut = 2.5\n",
    "xmax = cut * max(xx for xx, yy in pos.values())\n",
    "ymax = cut * max(yy for xx, yy in pos.values())\n",
    "plt.xlim(-xmax, xmax)\n",
    "plt.ylim(-ymax, ymax)\n",
    "plt.show()\n",
    "pylab.close()\n",
    "del fig\n"
   ]
  },
  {
   "cell_type": "code",
   "execution_count": null,
   "metadata": {},
   "outputs": [],
   "source": []
  }
 ],
 "metadata": {
  "kernelspec": {
   "display_name": "Python 3",
   "language": "python",
   "name": "python3"
  },
  "language_info": {
   "codemirror_mode": {
    "name": "ipython",
    "version": 3
   },
   "file_extension": ".py",
   "mimetype": "text/x-python",
   "name": "python",
   "nbconvert_exporter": "python",
   "pygments_lexer": "ipython3",
   "version": "3.8.12"
  }
 },
 "nbformat": 4,
 "nbformat_minor": 2
}
